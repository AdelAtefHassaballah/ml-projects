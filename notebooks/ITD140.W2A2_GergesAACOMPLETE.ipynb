{
 "cells": [
  {
   "cell_type": "markdown",
   "id": "895921ea-9aac-4163-b79c-6d6a34241028",
   "metadata": {},
   "source": [
    "# ITD140 Assignment 2: Introduction to NumPy and Pandas - 100 points\n",
    "\n",
    "The goal of this assignment is to provide an in-depth understanding of NumPy and Pandas. "
   ]
  },
  {
   "cell_type": "markdown",
   "id": "9d69c2dd-bba7-4e97-9f13-dcde8dffaa34",
   "metadata": {},
   "source": [
    "## EXTREMELY IMPORTANT: Failure to follow these instructions will negatively impact your grade!\n",
    "\n",
    "1. **NAMING CONVENTION:** Ensure that your submission follows the naming convention `ITD140.W2A2_LnameFIMI`.\n",
    "   - Example: `ITD140W2A2_WalkerJT`\n",
    "   - Failure to follow this convention will make it very challenging for me to find your work after I download it for grading or it may be over-written by the work of other students.\n",
    "   - **I will not search for your work if the naming convention is not followed, and you will receive a zero for this assignment.**\n",
    "2. **DARK MODE:** Do not submit your work in dark mode, including screenshots! You will loose 50% of your grade.\n",
    "3. **Ensure Proper Submission:** Follow all instructions carefully to avoid deductions. Use your name as reflected in Canvas, not SIS.\n",
    "\n",
    "   <b style=\"color: blue\">Last Name:</b> Gerges\n",
    "\n",
    "   <b style=\"color: blue\">First Name:</b> Adel\n",
    "\n",
    "   <b style=\"color: blue\">Student ID Number:</b> 8290027"
   ]
  },
  {
   "cell_type": "markdown",
   "id": "fbcd2b44",
   "metadata": {},
   "source": [
    "**Task 1: Calculate Summary Statistics** - <span style=\"color: blue\">10 points:</span>\n",
    "- **Objective:** Calculate the mean, median, and standard deviation for the `mpg`, `horsepower`, and `weight` columns.\n",
    "- **Instruction:** Use 'pandas' to compute these statistics and explain the differences between them.\n",
    "\n",
    "-<span style=\"color: blue\">Enter your Puthon Code for this problem below:</span>"
   ]
  },
  {
   "cell_type": "code",
   "execution_count": 11,
   "id": "2a0f1cd9-6603-46b7-9798-657c3db69c04",
   "metadata": {},
   "outputs": [
    {
     "name": "stdout",
     "output_type": "stream",
     "text": [
      "Summary Statistics:\n",
      "               mpg  horsepower       weight\n",
      "count  398.000000  392.000000   398.000000\n",
      "mean    23.562814  104.469388  2970.424623\n",
      "std      7.812979   38.491160   846.841774\n",
      "min      9.000000   46.000000  1613.000000\n",
      "25%     18.000000   75.000000  2223.750000\n",
      "50%     23.000000   93.500000  2803.500000\n",
      "75%     29.000000  126.000000  3608.000000\n",
      "max     47.000000  230.000000  5140.000000\n"
     ]
    }
   ],
   "source": [
    "# Insert your code below this text and execute the code.\n",
    "\n",
    "import pandas as pd\n",
    "import matplotlib.pyplot as plt\n",
    "import seaborn as sns\n",
    "from sklearn.model_selection import train_test_split\n",
    "\n",
    "# Load the dataset\n",
    "file_path = r'C:\\MPG.csv'\n",
    "mpg_data = pd.read_csv(file_path)\n",
    "\n",
    "# Task 1: Calculate Summary Statistics\n",
    "summary_statistics = mpg_data[['mpg', 'horsepower', 'weight']].describe()\n",
    "print(\"Summary Statistics:\\n\", summary_statistics)"
   ]
  },
  {
   "cell_type": "markdown",
   "id": "1a96d4d5",
   "metadata": {},
   "source": [
    "**Task 2: Filter Cars by MPG** - <span style=\"color: blue\">10 points:</span>\n",
    "- **Objective:** Find all cars with `mpg` greater than 25.\n",
    "- **Instruction:** Create a filtered dataset of cars that meet the criteria and display the first 5 rows.\n",
    "\n",
    "-<span style=\"color: blue\">Enter your Puthon Code for this problem below:</span>"
   ]
  },
  {
   "cell_type": "code",
   "execution_count": null,
   "id": "44a39e81-fefd-4e5e-921f-77dd44c1ab30",
   "metadata": {},
   "outputs": [
    {
     "name": "stdout",
     "output_type": "stream",
     "text": [
      "Cars with MPG > 25:\n",
      "     mpg  cylinders  displacement  horsepower  weight  acceleration  model_yr  \\\n",
      "27   27          4         121.0        80.0    2670          15.0        79   \n",
      "31   34          4          97.0        78.0    2188          15.8        80   \n",
      "33   36          5         121.0        67.0    2950          19.9        80   \n",
      "34   29          4          98.0        83.0    2219          16.5        74   \n",
      "35   26          4         121.0       113.0    2234          12.5        70   \n",
      "\n",
      "    origin             car_name  \n",
      "27       1        amc spirit dl  \n",
      "31       2            audi 4000  \n",
      "33       2  audi 5000s (diesel)  \n",
      "34       2             audi fox  \n",
      "35       2             bmw 2002  \n"
     ]
    }
   ],
   "source": [
    "# Insert your code below this text and execute the code.\n",
    "\n",
    "# Task 2: Filter Cars by MPG > 25\n",
    "high_mpg_cars = mpg_data[mpg_data['mpg'] > 25]\n",
    "print(\"Cars with MPG > 25:\\n\", high_mpg_cars.head())"
   ]
  },
  {
   "cell_type": "markdown",
   "id": "e413ded2",
   "metadata": {},
   "source": [
    "**Task 3: Find Cars with High Weight and Low MPG** - <span style=\"color: blue\">10 points:</span>\n",
    "- **Objective:** Identify cars that weigh more than 3500 lbs and have an `mpg` value less than 15.\n",
    "- **Instruction:** Use conditional filtering and display the results.\n",
    "\n",
    "-<span style=\"color: blue\">Enter your Puthon Code for this problem below:</span>"
   ]
  },
  {
   "cell_type": "code",
   "execution_count": 13,
   "id": "addf1e37",
   "metadata": {},
   "outputs": [
    {
     "name": "stdout",
     "output_type": "stream",
     "text": [
      "Heavy cars with low MPG:\n",
      "      mpg  cylinders  displacement  horsepower  weight  acceleration  model_yr  \\\n",
      "0     13          8         360.0       175.0    3821          11.0        73   \n",
      "21    14          8         304.0       150.0    3672          11.5        73   \n",
      "23    14          8         304.0       150.0    4257          15.5        74   \n",
      "39    13          8         350.0       175.0    4100          13.0        73   \n",
      "41    13          8         350.0       150.0    4699          14.5        74   \n",
      "43    12          8         455.0       225.0    4951          11.0        73   \n",
      "46    13          8         350.0       155.0    4502          13.5        72   \n",
      "62    13          8         400.0       150.0    4464          12.0        73   \n",
      "66    13          8         307.0       130.0    4098          14.0        72   \n",
      "79    11          8         400.0       150.0    4997          14.0        73   \n",
      "80    14          8         350.0       165.0    4209          12.0        71   \n",
      "81    13          8         350.0       165.0    4274          12.0        72   \n",
      "82    14          8         454.0       220.0    4354           9.0        70   \n",
      "84    13          8         350.0       145.0    3988          13.0        73   \n",
      "101   13          8         350.0       145.0    4055          12.0        76   \n",
      "102   10          8         307.0       200.0    4376          15.0        70   \n",
      "108   13          8         440.0       215.0    4735          11.0        73   \n",
      "109   13          8         400.0       190.0    4422          12.5        72   \n",
      "150   14          8         318.0       150.0    4457          13.5        74   \n",
      "151   13          8         318.0       150.0    3755          14.0        76   \n",
      "152   11          8         318.0       210.0    4382          13.5        70   \n",
      "156   12          8         383.0       180.0    4955          11.5        71   \n",
      "169   12          8         400.0       167.0    4906          12.5        73   \n",
      "171   13          8         400.0       170.0    4746          12.0        71   \n",
      "174   13          8         302.0       130.0    3870          15.0        76   \n",
      "175   10          8         360.0       215.0    4615          14.0        70   \n",
      "183   14          8         351.0       153.0    4154          13.5        71   \n",
      "184   14          8         351.0       153.0    4129          13.0        72   \n",
      "186   14          8         302.0       137.0    4042          14.5        73   \n",
      "189   13          8         302.0       140.0    4294          16.0        72   \n",
      "190   14          8         302.0       140.0    4638          16.0        74   \n",
      "195   14          8         351.0       148.0    4657          13.5        75   \n",
      "196   13          8         351.0       158.0    4363          13.0        73   \n",
      "220    9          8         304.0       193.0    4732          18.5        70   \n",
      "254   11          8         429.0       208.0    4633          11.0        72   \n",
      "255   12          8         429.0       198.0    4952          11.5        73   \n",
      "266   12          8         350.0       160.0    4456          13.5        72   \n",
      "267   11          8         350.0       180.0    3664          11.0        73   \n",
      "270   12          8         350.0       180.0    4499          12.5        73   \n",
      "286   14          8         340.0       160.0    3609           8.0        70   \n",
      "287   13          8         360.0       170.0    4654          13.0        73   \n",
      "292   14          8         318.0       150.0    4237          14.5        73   \n",
      "293   14          8         318.0       150.0    4096          13.0        71   \n",
      "295   14          8         440.0       215.0    4312           8.5        70   \n",
      "306   14          8         318.0       150.0    4077          14.0        72   \n",
      "313   13          8         318.0       150.0    3940          13.2        76   \n",
      "316   14          8         400.0       175.0    4385          12.0        72   \n",
      "317   14          8         455.0       225.0    4425          10.0        70   \n",
      "318   14          8         400.0       175.0    4464          11.5        71   \n",
      "327   13          8         400.0       175.0    5140          12.0        71   \n",
      "\n",
      "     origin                          car_name  \n",
      "0         1           amc ambassador brougham  \n",
      "21        1                       amc matador  \n",
      "23        1                  amc matador (sw)  \n",
      "39        1                 buick century 350  \n",
      "41        1          buick century luxus (sw)  \n",
      "43        1          buick electra 225 custom  \n",
      "46        1              buick lesabre custom  \n",
      "62        1         chevrolet caprice classic  \n",
      "66        1  chevrolet chevelle concours (sw)  \n",
      "79        1                  chevrolet impala  \n",
      "80        1                  chevrolet impala  \n",
      "81        1                  chevrolet impala  \n",
      "82        1                  chevrolet impala  \n",
      "84        1                  chevrolet malibu  \n",
      "101       1                         chevy c10  \n",
      "102       1                         chevy c20  \n",
      "108       1      chrysler new yorker brougham  \n",
      "109       1            chrysler newport royal  \n",
      "150       1         dodge coronet custom (sw)  \n",
      "151       1                        dodge d100  \n",
      "152       1                        dodge d200  \n",
      "156       1                 dodge monaco (sw)  \n",
      "169       1                      ford country  \n",
      "171       1          ford country squire (sw)  \n",
      "174       1                         ford f108  \n",
      "175       1                         ford f250  \n",
      "183       1                  ford galaxie 500  \n",
      "184       1                  ford galaxie 500  \n",
      "186       1                  ford gran torino  \n",
      "189       1             ford gran torino (sw)  \n",
      "190       1             ford gran torino (sw)  \n",
      "195       1                          ford ltd  \n",
      "196       1                          ford ltd  \n",
      "220       1                          hi 1200d  \n",
      "254       1                   mercury marquis  \n",
      "255       1          mercury marquis brougham  \n",
      "266       1        oldsmobile delta 88 royale  \n",
      "267       1                  oldsmobile omega  \n",
      "270       1          oldsmobile vista cruiser  \n",
      "286       1                plymouth 'cuda 340  \n",
      "287       1            plymouth custom suburb  \n",
      "292       1          plymouth fury gran sedan  \n",
      "293       1                 plymouth fury iii  \n",
      "295       1                 plymouth fury iii  \n",
      "306       1    plymouth satellite custom (sw)  \n",
      "313       1        plymouth volare premier v8  \n",
      "316       1                  pontiac catalina  \n",
      "317       1                  pontiac catalina  \n",
      "318       1         pontiac catalina brougham  \n",
      "327       1               pontiac safari (sw)  \n"
     ]
    }
   ],
   "source": [
    "# Insert your code below this text and execute the code.\n",
    "\n",
    "# Task 3: High Weight and Low MPG\n",
    "heavy_low_mpg_cars = mpg_data[(mpg_data['weight'] > 3500) & (mpg_data['mpg'] < 15)]\n",
    "print(\"Heavy cars with low MPG:\\n\", heavy_low_mpg_cars)"
   ]
  },
  {
   "cell_type": "markdown",
   "id": "ecc2f382",
   "metadata": {},
   "source": [
    "**Task 4: Visualize the Relationship Between Horsepower and MPG** - <span style=\"color: blue\">10 points:</span>\n",
    "- **Objective:** Create a scatter plot of `horsepower` vs. `mpg`.\n",
    "- **Instruction:** Use `matplotlib` to plot the relationship and provide a brief interpretation.\n",
    "\n",
    "-<span style=\"color: blue\">Enter your Puthon Code for this problem below:</span>"
   ]
  },
  {
   "cell_type": "code",
   "execution_count": 14,
   "id": "e0c9be89",
   "metadata": {},
   "outputs": [
    {
     "data": {
      "image/png": "[encoded data removed]",
      "text/plain": [
       "<Figure size 640x480 with 1 Axes>"
      ]
     },
     "metadata": {},
     "output_type": "display_data"
    }
   ],
   "source": [
    "# Insert your code below this text and execute the code.# Insert your code below this text and execute the code.\n",
    "\n",
    "# Task 4: Visualize Horsepower vs. MPG\n",
    "plt.scatter(mpg_data['horsepower'], mpg_data['mpg'])\n",
    "plt.xlabel('Horsepower')\n",
    "plt.ylabel('MPG')\n",
    "plt.title('Horsepower vs. MPG')\n",
    "plt.show()"
   ]
  },
  {
   "cell_type": "markdown",
   "id": "56aca37c",
   "metadata": {},
   "source": [
    "**Task 5: Create a Boxplot of Car Weight** - <span style=\"color: blue\">10 points:</span>\n",
    "- **Objective:** Create a boxplot to visualize the distribution of the `weight` column.\n",
    "- **Instruction:** Instruction: Use `seaborn` to generate the plot and discuss any observed outliers.\n",
    "\n",
    "-<span style=\"color: blue\">Enter your Puthon Code for this problem below:</span>"
   ]
  },
  {
   "cell_type": "code",
   "execution_count": 15,
   "id": "b2f7898c",
   "metadata": {},
   "outputs": [
    {
     "data": {
      "image/png": "[encoded data removed]",
      "text/plain": [
       "<Figure size 640x480 with 1 Axes>"
      ]
     },
     "metadata": {},
     "output_type": "display_data"
    }
   ],
   "source": [
    "# Insert your code below this text and execute the code.\n",
    "\n",
    "# Task 5: Boxplot of Car Weight\n",
    "sns.boxplot(x=mpg_data['weight'])\n",
    "plt.title('Boxplot of Car Weight')\n",
    "plt.show()"
   ]
  },
  {
   "cell_type": "markdown",
   "id": "52888b1d-330e-4570-8527-46d16a3c342f",
   "metadata": {},
   "source": [
    "-<span style=\"color: red\">Place your discussion here:</span> Any reasonable discussion that shows correct statistical understanding is acceptable.  Here there are no outliers displayed. "
   ]
  },
  {
   "cell_type": "markdown",
   "id": "326531f5",
   "metadata": {},
   "source": [
    "**Task 6: Group Cars by Cylinder Count and Calculate Average MPG** - <span style=\"color: blue\">10 points:</span>\n",
    "- **Objective:**  Group the dataset by `cylinders` and calculate the mean `mpg` for each group.\n",
    "- **Instruction:** Use `groupby` and display the results in a table.\n",
    "  \n",
    "-<span style=\"color: blue\">Enter your Puthon Code for this problem below:</span>"
   ]
  },
  {
   "cell_type": "code",
   "execution_count": 16,
   "id": "f899548d",
   "metadata": {},
   "outputs": [
    {
     "name": "stdout",
     "output_type": "stream",
     "text": [
      "Average MPG by Cylinder Count:\n",
      " cylinders\n",
      "3    20.750000\n",
      "4    29.323529\n",
      "5    27.000000\n",
      "6    20.059524\n",
      "8    15.019417\n",
      "Name: mpg, dtype: float64\n"
     ]
    }
   ],
   "source": [
    "# Insert your code below this text and execute the code.\n",
    "\n",
    "# Task 6: Group by Cylinder Count and Calculate Average MPG\n",
    "cyl_mpg = mpg_data.groupby('cylinders')['mpg'].mean()\n",
    "print(\"Average MPG by Cylinder Count:\\n\", cyl_mpg)"
   ]
  },
  {
   "cell_type": "markdown",
   "id": "a7ad6eba",
   "metadata": {},
   "source": [
    "**Task 7: Identify the Lightest and Heaviest Cars** - <span style=\"color: blue\">10 points:</span>\n",
    "- **Objective:** Find the car with the lowest and highest `weight`.\n",
    "- **Instruction:** Use `pandas` to identify the corresponding rows and display them.\n",
    "\n",
    "-<span style=\"color: blue\">Enter your Puthon Code for this problem below:</span>"
   ]
  },
  {
   "cell_type": "code",
   "execution_count": 17,
   "id": "887fa586",
   "metadata": {},
   "outputs": [
    {
     "name": "stdout",
     "output_type": "stream",
     "text": [
      "Lightest Car:\n",
      " mpg                      35\n",
      "cylinders                 4\n",
      "displacement           72.0\n",
      "horsepower             69.0\n",
      "weight                 1613\n",
      "acceleration           18.0\n",
      "model_yr                 71\n",
      "origin                    3\n",
      "car_name        datsun 1200\n",
      "Name: 110, dtype: object\n",
      "Heaviest Car:\n",
      " mpg                              13\n",
      "cylinders                         8\n",
      "displacement                  400.0\n",
      "horsepower                    175.0\n",
      "weight                         5140\n",
      "acceleration                   12.0\n",
      "model_yr                         71\n",
      "origin                            1\n",
      "car_name        pontiac safari (sw)\n",
      "Name: 327, dtype: object\n"
     ]
    }
   ],
   "source": [
    "# Insert your code below this text and execute the code.\n",
    "\n",
    "# Task 7: Identify the Lightest and Heaviest Cars\n",
    "lightest_car = mpg_data.loc[mpg_data['weight'].idxmin()]\n",
    "heaviest_car = mpg_data.loc[mpg_data['weight'].idxmax()]\n",
    "print(\"Lightest Car:\\n\", lightest_car)\n",
    "print(\"Heaviest Car:\\n\", heaviest_car)"
   ]
  },
  {
   "cell_type": "markdown",
   "id": "b4b5ac69",
   "metadata": {},
   "source": [
    "**Task 8: Calculate Correlations Between Variables** - <span style=\"color: blue\">10 points:</span>\n",
    "- **Objective:** Find the correlation between `mpg`, `horsepower`, and `weight`.\n",
    "- **Instruction:** Use `pandas` to generate the correlation matrix and discuss any significant relationships.\n",
    "\n",
    "-<span style=\"color: blue\">Enter your Puthon Code for this problem below:</span>"
   ]
  },
  {
   "cell_type": "code",
   "execution_count": 18,
   "id": "b6048d59",
   "metadata": {},
   "outputs": [
    {
     "name": "stdout",
     "output_type": "stream",
     "text": [
      "Correlation Matrix:\n",
      "                  mpg  horsepower    weight\n",
      "mpg         1.000000   -0.777683 -0.830954\n",
      "horsepower -0.777683    1.000000  0.864538\n",
      "weight     -0.830954    0.864538  1.000000\n"
     ]
    }
   ],
   "source": [
    "# Insert your code below this text and execute the code.\n",
    "\n",
    "# Task 8: Calculate Correlations Between Variables\n",
    "correlations = mpg_data[['mpg', 'horsepower', 'weight']].corr()\n",
    "print(\"Correlation Matrix:\\n\", correlations)"
   ]
  },
  {
   "cell_type": "markdown",
   "id": "61f014cd",
   "metadata": {},
   "source": [
    "**Task 9: Split the Dataset** - <span style=\"color: blue\">10 points:</span>\n",
    "- **Objective:** Split the dataset into training (70%) and testing (30%) subsets.\n",
    "- **Instruction:** Instruction: Use 'train_test_split' and display the first few rows of each subset.\n",
    "\n",
    "-<span style=\"color: blue\">Enter your Puthon Code for this problem below:</span>"
   ]
  },
  {
   "cell_type": "code",
   "execution_count": 19,
   "id": "b5c7a07a",
   "metadata": {},
   "outputs": [
    {
     "name": "stdout",
     "output_type": "stream",
     "text": [
      "Training Set:\n",
      "      mpg  cylinders  displacement  horsepower  weight  acceleration  model_yr  \\\n",
      "157   16          8         318.0       145.0    4140          13.7        77   \n",
      "109   13          8         400.0       190.0    4422          12.5        72   \n",
      "17    18          6         232.0       100.0    3288          15.5        71   \n",
      "253   36          4          98.0        70.0    2125          17.3        82   \n",
      "24    19          6         232.0        90.0    3211          17.0        75   \n",
      "\n",
      "     origin                car_name  \n",
      "157       1   dodge monaco brougham  \n",
      "109       1  chrysler newport royal  \n",
      "17        1             amc matador  \n",
      "253       1          mercury lynx l  \n",
      "24        1               amc pacer  \n",
      "Testing Set:\n",
      "      mpg  cylinders  displacement  horsepower  weight  acceleration  model_yr  \\\n",
      "198   15          6         250.0        72.0    3158          19.5        75   \n",
      "396   44          4          90.0        48.0    2085          21.7        80   \n",
      "33    36          5         121.0        67.0    2950          19.9        80   \n",
      "208   27          4         140.0        72.0    2565          13.6        76   \n",
      "93    22          6         250.0       105.0    3353          14.5        76   \n",
      "\n",
      "     origin              car_name  \n",
      "198       1         ford maverick  \n",
      "396       2  vw rabbit c (diesel)  \n",
      "33        2   audi 5000s (diesel)  \n",
      "208       1            ford pinto  \n",
      "93        1        chevrolet nova  \n"
     ]
    }
   ],
   "source": [
    "# Insert your code below this text and execute the code.\n",
    "\n",
    "# Task 9: Split the Dataset\n",
    "train_set, test_set = train_test_split(mpg_data, test_size=0.3, random_state=42)\n",
    "print(\"Training Set:\\n\", train_set.head())\n",
    "print(\"Testing Set:\\n\", test_set.head())"
   ]
  },
  {
   "cell_type": "markdown",
   "id": "869d4310",
   "metadata": {},
   "source": [
    "**Task 10: Visualize MPG Trends Over the Years** - <span style=\"color: blue\">10 points:</span>\n",
    "- **Objective:** Analyze how 'mpg' has changed across different 'model_yr' values.\n",
    "- **Instruction:** Use `matplotlib` to create a line plot of the average `mpg` for each `model_yr`.\n",
    "\n",
    "-<span style=\"color: blue\">Enter your Puthon Code for this problem below:</span>"
   ]
  },
  {
   "cell_type": "code",
   "execution_count": 20,
   "id": "e4322079",
   "metadata": {},
   "outputs": [
    {
     "data": {
      "image/png": "[encoded data removed]",
      "text/plain": [
       "<Figure size 640x480 with 1 Axes>"
      ]
     },
     "metadata": {},
     "output_type": "display_data"
    }
   ],
   "source": [
    "# Insert your code below this text and execute the code.\n",
    "\n",
    "# Task 10: Visualize MPG Trends Over the Years\n",
    "mpg_trends = mpg_data.groupby('model_yr')['mpg'].mean()\n",
    "plt.plot(mpg_trends.index, mpg_trends.values, marker='o')\n",
    "plt.xlabel('Model Year')\n",
    "plt.ylabel('Average MPG')\n",
    "plt.title('MPG Trends Over the Years')\n",
    "plt.show()"
   ]
  },
  {
   "cell_type": "markdown",
   "id": "45a7db42-6643-434f-8722-7381a84476f9",
   "metadata": {},
   "source": [
    "## Submission Instructions\n",
    "1. Save this notebook with all your outputs included.\n",
    "2. Download `[File | Download]`the notebook, **in the prescribed file naming convention.**\n",
    "3. Submit the notebook file (`.ipynb`) to Canvas by the due date. You may also want to upload a PDF version of the assignment by opening the notebook in JupyterLab (see icon on top right of Jupyter Notebook environment) and `File | Print | Save as PDF`.\n",
    "4. Ensure all steps are completed and all required screenshots are included."
   ]
  }
 ],
 "metadata": {
  "kernelspec": {
   "display_name": "Python 3 (ipykernel)",
   "language": "python",
   "name": "python3"
  },
  "language_info": {
   "codemirror_mode": {
    "name": "ipython",
    "version": 3
   },
   "file_extension": ".py",
   "mimetype": "text/x-python",
   "name": "python",
   "nbconvert_exporter": "python",
   "pygments_lexer": "ipython3",
   "version": "3.13.1"
  }
 },
 "nbformat": 4,
 "nbformat_minor": 5
}
