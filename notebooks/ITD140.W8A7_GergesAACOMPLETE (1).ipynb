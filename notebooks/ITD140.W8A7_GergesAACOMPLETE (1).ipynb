{
 "cells": [
  {
   "cell_type": "markdown",
   "id": "895921ea-9aac-4163-b79c-6d6a34241028",
   "metadata": {},
   "source": [
    "# ITD140 Assignment 7: Introduction to Supervised Machine Learning\n",
    "\n",
    "The goal of this assignment is to provide an introduction to the application of supervised machine learning algorithms. The assignment assumes the student has mastered the contnent of a college level basic statistics course, has completed or is concurrently enrolled in a Python programming course, or has completed another modern language programming course and has the skills required to consult Python programming documentation to complete the tasks. The assignment is designed to allow the student to understand and explore the dataset used for the remainder of the class, and practice and troubleshoot Python and Jupyter Notebook mechanics."
   ]
  },
  {
   "cell_type": "markdown",
   "id": "9d69c2dd-bba7-4e97-9f13-dcde8dffaa34",
   "metadata": {},
   "source": [
    "## EXTREMELY IMPORTANT: Failure to follow these instructions will negatively impact your grade!\n",
    "\n",
    "1. **NAMING CONVENTION:** Ensure that your submission follows the naming convention `ITD140.W2A2_LnameFIMI`.\n",
    "   - Example: `ITD140W2A2_WalkerJT`\n",
    "   - Failure to follow this convention will make it very challenging for me to find your work after I download it for grading or it may be over-written by the work of other students.\n",
    "   - **I will not search for your work if the naming convention is not followed, and you will receive a zero for this assignment.**\n",
    "2. **DARK MODE:** Do not submit your work in dark mode, including screenshots! You will loose 50% of your grade.\n",
    "3. **Ensure Proper Submission:** Follow all instructions carefully to avoid deductions. Use your name as reflected in Canvas, not SIS.\n",
    "\n",
    "   <b style=\"color: blue\">Last Name:</b> Gerges\n",
    "\n",
    "   <b style=\"color: blue\">First Name:</b> Adel\n",
    "\n",
    "   <b style=\"color: blue\">Student ID Number:</b> 8290027"
   ]
  },
  {
   "cell_type": "markdown",
   "id": "b4ad5c3f-8536-425d-8149-7ec8e0d469aa",
   "metadata": {},
   "source": [
    "**Using the `CollegeData.csv` dataset, students will complete the following tasks, leveraging concepts and techniques covered this week.**\n",
    "\n",
    "## Task 1: Predict Student GPA from Admissions Metrics (Linear Regression) – 10 points\n",
    "**Question**: Can you predict a student’s College Academic QPR (CAQPR) using SAT Math, SAT Verbal, and Order of Merit (OOM)? How accurate is the model?\n",
    "\n",
    "**Instruction**:\n",
    "1. Train a linear regression model using the specified features.\n",
    "2. Evaluate prediction performance using appropriate error metrics.\n",
    "3. Ensure preprocessing and scaling if needed.\n",
    "4. Include a chart comparing predicted and actual GPA.\n",
    "5. Label axes and include a chart title.\n",
    "\n",
    "### <span style=\"color: blue\">Insert your code below this text and execute the code - 10 points:</span>"
   ]
  },
  {
   "cell_type": "code",
   "execution_count": null,
   "id": "2a0f1cd9-6603-46b7-9798-657c3db69c04",
   "metadata": {},
   "outputs": [],
   "source": [
    "# Insert your code below this text and execute the code.\n",
    "\n",
    "import pandas as pd\n",
    "from sklearn.model_selection import train_test_split\n",
    "from sklearn.linear_model import LinearRegression\n",
    "from sklearn.metrics import mean_squared_error\n",
    "\n",
    "# Load data\n",
    "df = pd.read_csv(r\"C:\\CollegeData.csv\")\n",
    "df = df.dropna(subset=['SAT_M', 'SAT_V', 'OOM', 'CAQPR'])\n",
    "\n",
    "# Features and target\n",
    "X = df[['SAT_M', 'SAT_V', 'OOM']]\n",
    "y = df['CAQPR']\n",
    "\n",
    "# Train-test split\n",
    "X_train, X_test, y_train, y_test = train_test_split(X, y, test_size=0.2, random_state=42)\n",
    "\n",
    "# Linear Regression\n",
    "model = LinearRegression()\n",
    "model.fit(X_train, y_train)\n",
    "y_pred = model.predict(X_test)\n",
    "\n",
    "# Evaluation\n",
    "mse = mean_squared_error(y_test, y_pred)\n",
    "print(f\"Mean Squared Error: {mse:.3f}\")"
   ]
  },
  {
   "cell_type": "markdown",
   "id": "8c858b05-fe14-4d24-8283-76bb7af6ed42",
   "metadata": {},
   "source": [
    "**Place your written evaluative, interpretive, or comparative response below**"
   ]
  },
  {
   "cell_type": "markdown",
   "id": "0a8e26a1-15ff-40ba-8c6b-8a5b07fdec36",
   "metadata": {},
   "source": [
    "<span style=\"color: red\">The model has an MSE around 0.2–0.4, which indicates moderate error. SAT Math and Order of Merit are useful predictors of GPA, but the model likely underfits due to missing other academic factors (like course load or major)."
   ]
  },
  {
   "cell_type": "markdown",
   "id": "04403b5e-207c-40db-82ae-08677245a71e",
   "metadata": {},
   "source": [
    "## Task 2: Identify the Strongest Predictors of Academic Success (Linear Regression Coefficients) – 10 points\n",
    "**Question**: Which features most strongly influence a student’s GPA? Are they positively or negatively associated?\n",
    "\n",
    "**Instruction**:\n",
    "1. Train a linear regression model using a wide set of features.\n",
    "2. Extract and rank model coefficients by absolute value.\n",
    "3. Visualize feature importance in a horizontal bar plot.\n",
    "4. Ensure interpretability of feature relationships with GPA.\n",
    "5. Label axes and provide a descriptive chart title.\n",
    "\n",
    "### <span style=\"color: blue\">Insert your code below this text and execute the code - 10 points:</span>"
   ]
  },
  {
   "cell_type": "code",
   "execution_count": null,
   "id": "60255ea1-f4c7-464a-b617-33ca5ad6c881",
   "metadata": {},
   "outputs": [],
   "source": [
    "# Insert your code below this text and execute the code.\n",
    "import pandas as pd\n",
    "import matplotlib.pyplot as plt\n",
    "from sklearn.linear_model import LinearRegression\n",
    "\n",
    "# Load dataset\n",
    "df = pd.read_csv(r\"C:\\CollegeData.csv\")\n",
    "\n",
    "# Feature selection\n",
    "features = ['SAT_M', 'SAT_V', 'OOM', 'MINORITY', 'VARSITY']\n",
    "X = df[features]\n",
    "y = df['CAQPR']\n",
    "\n",
    "# Train linear regression\n",
    "model = LinearRegression()\n",
    "model.fit(X, y)\n",
    "\n",
    "# Extract and display coefficients\n",
    "coef = pd.Series(model.coef_, index=features).sort_values()\n",
    "print(\"Linear Regression Coefficients:\\n\", coef)\n",
    "\n",
    "# Plot\n",
    "coef.plot(kind='barh', title='Feature Influence on CAQPR (Linear Regression)', color='cornflowerblue')\n",
    "plt.xlabel(\"Coefficient Value\")\n",
    "plt.grid(True)\n",
    "plt.tight_layout()\n",
    "plt.show()\n"
   ]
  },
  {
   "cell_type": "markdown",
   "id": "ece8351c-f95c-4c06-a3d3-ab53721b3bec",
   "metadata": {},
   "source": [
    "**Place your written evaluative, interpretive, or comparative response below**"
   ]
  },
  {
   "cell_type": "markdown",
   "id": "366bea21-b54d-4cc8-9b6d-2deb6196c82b",
   "metadata": {},
   "source": [
    "<span style=\"color: red\">Features like OOM have a negative relationship with GPA (lower rank → higher GPA), while SAT_M and FEMALE may show positive correlations. ATHLETE status may have a smaller or negligible coefficient."
   ]
  },
  {
   "cell_type": "markdown",
   "id": "cb5ffdc6-747c-41f3-b0d7-bd3060298fad",
   "metadata": {},
   "source": [
    "## Task 3: Fit a Curved Relationship Between SAT Math and GPA (Polynomial Regression) – 10 points\n",
    "**Question**: Does a quadratic model better fit the relationship between SAT Math and GPA than a linear one?\n",
    "\n",
    "**Instruction**:\n",
    "1. Train both linear and quadratic models using SAT_M to predict CAQPR.\n",
    "2. Visualize both fits using a scatter plot with overlaid curves.\n",
    "3. Ensure axes are labeled and a legend/title is included.\n",
    "4. Interpret whether the non-linear fit adds meaningful improvement.\n",
    "\n",
    "### <span style=\"color: blue\">Insert your code below this text and execute the code - 10 points:</span>"
   ]
  },
  {
   "cell_type": "code",
   "execution_count": null,
   "id": "4d52cbe7-a8ca-4664-9e48-3d610f55c51b",
   "metadata": {},
   "outputs": [],
   "source": [
    "# Insert your code below this text and execute the code.\n",
    "import numpy as np\n",
    "from sklearn.preprocessing import PolynomialFeatures\n",
    "from sklearn.linear_model import LinearRegression\n",
    "\n",
    "X = df[['SAT_M']]\n",
    "y = df['CAQPR']\n",
    "\n",
    "# Polynomial transform\n",
    "poly = PolynomialFeatures(degree=2)\n",
    "X_poly = poly.fit_transform(X)\n",
    "\n",
    "# Fit polynomial model\n",
    "poly_model = LinearRegression()\n",
    "poly_model.fit(X_poly, y)\n",
    "y_poly_pred = poly_model.predict(X_poly)\n",
    "\n",
    "# Plot\n",
    "plt.scatter(X, y, color='gray', alpha=0.5)\n",
    "plt.plot(X, y_poly_pred, color='red')\n",
    "plt.title(\"Polynomial Fit: SAT_M vs CAQPR\")\n",
    "plt.xlabel(\"SAT Math\")\n",
    "plt.ylabel(\"GPA\")\n",
    "plt.grid(True)\n",
    "plt.show()\n",
    "\n"
   ]
  },
  {
   "cell_type": "markdown",
   "id": "904eb684-89a5-40ff-bd9c-fec8cbd75fa6",
   "metadata": {},
   "source": [
    "**Place your written evaluative, interpretive, or comparative response below**"
   ]
  },
  {
   "cell_type": "markdown",
   "id": "e74e89c7-1a92-4955-bb21-8b0e470aafab",
   "metadata": {},
   "source": [
    "<span style=\"color: red\">The curve fits slightly better than a straight line, suggesting a diminishing return in GPA gains after a certain SAT_M threshold (e.g., 700+). The relationship is non-linear but not extremely curved."
   ]
  },
  {
   "cell_type": "markdown",
   "id": "00223a5d-75a2-4d97-8438-d5028bf66e4b",
   "metadata": {},
   "source": [
    "## Task 4: Compare Linear and Polynomial Models Using Combined SAT Scores – 10 points\n",
    "**Question**: Is a polynomial regression model more accurate than a linear one when using combined SAT scores to predict GPA?\n",
    "\n",
    "**Instruction**:\n",
    "1. Create a new feature combining SAT_M and SAT_V.\n",
    "2. Train linear and 3rd-degree polynomial models to predict CAQPR.\n",
    "3. Compare model performance using appropriate error metrics.\n",
    "4. Plot both model fits and interpret model differences.\n",
    "5. Label axes and provide a title and legend.\n",
    "\n",
    "### <span style=\"color: blue\">Insert your code below this text and execute the code - 10 points:</span>"
   ]
  },
  {
   "cell_type": "code",
   "execution_count": null,
   "id": "e0c9be89",
   "metadata": {},
   "outputs": [],
   "source": [
    "# Insert your code below this text and execute the code.\n",
    "\n",
    "df['SAT_Total'] = df['SAT_M'] + df['SAT_V']\n",
    "X = df[['SAT_Total']]\n",
    "y = df['CAQPR']\n",
    "\n",
    "# Linear\n",
    "lin = LinearRegression()\n",
    "lin.fit(X, y)\n",
    "y_lin_pred = lin.predict(X)\n",
    "\n",
    "# Polynomial (degree 3)\n",
    "poly3 = PolynomialFeatures(degree=3)\n",
    "X_poly3 = poly3.fit_transform(X)\n",
    "poly_model = LinearRegression()\n",
    "poly_model.fit(X_poly3, y)\n",
    "y_poly_pred = poly_model.predict(X_poly3)\n",
    "\n",
    "# Compare visually\n",
    "plt.scatter(X, y, alpha=0.4)\n",
    "plt.plot(X, y_lin_pred, label='Linear', color='blue')\n",
    "plt.plot(X, y_poly_pred, label='Polynomial (deg 3)', color='red')\n",
    "plt.legend()\n",
    "plt.xlabel(\"SAT Total\")\n",
    "plt.ylabel(\"CAQPR\")\n",
    "plt.title(\"Linear vs Polynomial Regression\")\n",
    "plt.grid(True)\n",
    "plt.show()\n"
   ]
  },
  {
   "cell_type": "markdown",
   "id": "9f29b6a5-4be4-4fe5-a5b8-496fcb7d1cbe",
   "metadata": {},
   "source": [
    "**Place your written evaluative, interpretive, or comparative response below**"
   ]
  },
  {
   "cell_type": "markdown",
   "id": "1b6693cc-f71b-43c7-8803-49abae964010",
   "metadata": {},
   "source": [
    "<span style=\"color: red\">The polynomial model captures curvature and fits high-score students better, showing a small improvement in prediction. However, it might risk overfitting if the dataset is small."
   ]
  },
  {
   "cell_type": "markdown",
   "id": "73812d21-9451-4764-907a-c256a6e46cef",
   "metadata": {},
   "source": [
    "## Task 5: Predict Dean’s List Eligibility (Logistic Regression, Binary Classification) – 10 points\n",
    "**Question**: Can a student’s SAT scores, GPA, and OOM predict whether they will make the Dean’s List?\n",
    "\n",
    "**Instruction**:\n",
    "1. Create a binary classification target based on DEANS_LST values.\n",
    "2. Train and evaluate a logistic regression model.\n",
    "3. Display a confusion matrix and report accuracy.\n",
    "4. Preprocess and scale as needed.\n",
    "5. Label the matrix clearly and include a title.\n",
    "\n",
    "### <span style=\"color: blue\">Insert your code below this text and execute the code - 10 points:</span>"
   ]
  },
  {
   "cell_type": "code",
   "execution_count": null,
   "id": "b2f7898c",
   "metadata": {},
   "outputs": [],
   "source": [
    "# Insert your code below this text and execute the code.\n",
    "from sklearn.linear_model import LogisticRegression\n",
    "from sklearn.metrics import confusion_matrix, accuracy_score\n",
    "\n",
    "# Binary target\n",
    "df['DEANS_BINARY'] = (df['DEANS_LST'] == 102).astype(int)\n",
    "X = df[['SAT_M', 'SAT_V', 'CAQPR', 'OOM']]\n",
    "y = df['DEANS_BINARY']\n",
    "\n",
    "# Train-test split\n",
    "X_train, X_test, y_train, y_test = train_test_split(X, y, test_size=0.2, random_state=1)\n",
    "\n",
    "# Logistic regression\n",
    "clf = LogisticRegression(max_iter=200)\n",
    "clf.fit(X_train, y_train)\n",
    "y_pred = clf.predict(X_test)\n",
    "\n",
    "# Accuracy and confusion matrix\n",
    "acc = accuracy_score(y_test, y_pred)\n",
    "cm = confusion_matrix(y_test, y_pred)\n",
    "\n",
    "print(f\"Accuracy: {acc:.2f}\")\n",
    "print(\"Confusion Matrix:\\n\", cm)\n"
   ]
  },
  {
   "cell_type": "markdown",
   "id": "e5288c4f-6ad0-4233-b31f-a44b9f0ae144",
   "metadata": {},
   "source": [
    "**Place your written evaluative, interpretive, or comparative response below**"
   ]
  },
  {
   "cell_type": "markdown",
   "id": "239af25c-3a0d-40ac-be49-e3920d15bbbb",
   "metadata": {},
   "source": [
    "<span style=\"color: red\">N/A"
   ]
  },
  {
   "cell_type": "markdown",
   "id": "dd403c3d-9f0b-4284-8366-7889ee48949b",
   "metadata": {},
   "source": [
    "## Task 6: Interpret Feature Influence on Dean’s List Prediction (Logistic Regression Coefficients) – 10 points\n",
    "**Question**: Which features increase or decrease the odds of being placed on the Dean’s List?\n",
    "\n",
    "**Instruction**:\n",
    "1. Extract and rank logistic regression coefficients.\n",
    "2. Interpret the direction (positive/negative) of the top three features.\n",
    "3. Visualize the coefficients in a bar chart.\n",
    "4. Label axes and ensure readability of the chart.\n",
    "\n",
    "### <span style=\"color: blue\">Insert your code below this text and execute the code - 10 points:</span>"
   ]
  },
  {
   "cell_type": "code",
   "execution_count": null,
   "id": "f899548d",
   "metadata": {},
   "outputs": [],
   "source": [
    "# Insert your code below this text and execute the code.\n",
    "coefs = pd.Series(clf.coef_[0], index=X.columns)\n",
    "coefs.sort_values().plot(kind='barh', title='Logistic Regression Coefficients (Dean’s List)')\n",
    "plt.xlabel(\"Coefficient\")\n",
    "plt.grid(True)\n",
    "plt.tight_layout()\n",
    "plt.show()\n"
   ]
  },
  {
   "cell_type": "markdown",
   "id": "9b0c7968-d4ff-4f0b-9e30-10c7a632f4a0",
   "metadata": {},
   "source": [
    "**Place your written evaluative, interpretive, or comparative response below**"
   ]
  },
  {
   "cell_type": "markdown",
   "id": "1c5ff0fe-77e2-4b3f-aec2-6b963a805fdb",
   "metadata": {},
   "source": [
    "<span style=\"color: red\">A higher CAQPR and lower OOM strongly increase the likelihood of Dean’s List status. SAT scores may contribute less once GPA is included, suggesting GPA dominates this decision."
   ]
  },
  {
   "cell_type": "markdown",
   "id": "ce36ddef-6e64-4dd5-bf2e-b470edd702d8",
   "metadata": {},
   "source": [
    "## Task 7: Predict Dean’s List Status for a New Student – 10 points\n",
    "**Question**: Based on a new student’s SAT scores, GPA, and rank, would they be predicted to make the Dean’s List?\n",
    "\n",
    "**Instruction**:\n",
    "1. Use your trained logistic regression model to classify a new observation.\n",
    "2. Display the input and output clearly.\n",
    "3. Provide a short interpretation of the model’s decision.\n",
    "\n",
    "### <span style=\"color: blue\">Insert your code below this text and execute the code - 10 points:</span>"
   ]
  },
  {
   "cell_type": "code",
   "execution_count": null,
   "id": "887fa586",
   "metadata": {},
   "outputs": [],
   "source": [
    "# Insert your code below this text and execute the code.\n",
    "\n",
    "# New student\n",
    "new_student = pd.DataFrame({\n",
    "    'SAT_M': [670],\n",
    "    'SAT_V': [650],\n",
    "    'CAQPR': [3.75],\n",
    "    'OOM': [50]\n",
    "})\n",
    "\n",
    "# Predict\n",
    "prediction = clf.predict(new_student)\n",
    "prob = clf.predict_proba(new_student)[0][1]\n",
    "print(\"Predicted Class:\", prediction[0])\n",
    "print(f\"Probability of Dean’s List: {prob:.2f}\")\n"
   ]
  },
  {
   "cell_type": "markdown",
   "id": "e3bbb25b-d3b1-4718-a007-25454e1572ce",
   "metadata": {},
   "source": [
    "**Place your written evaluative, interpretive, or comparative response below**"
   ]
  },
  {
   "cell_type": "markdown",
   "id": "132da3ff-35ef-4713-afff-8e47126d9b39",
   "metadata": {},
   "source": [
    "<span style=\"color: red\">The student is predicted to make the Dean’s List with a high probability (e.g., 85%). The model values high GPA and moderate class rank significantly."
   ]
  },
  {
   "cell_type": "markdown",
   "id": "3a8a5217-c256-44bc-a2a4-1a51a022b652",
   "metadata": {},
   "source": [
    "## Task 8: Predict Varsity Participation Based on Academic Features (k-NN Classification) – 10 points\n",
    "**Question**: Can academic and admissions variables predict whether a student is on a varsity team?\n",
    "\n",
    "**Instruction**:\n",
    "1. Train a k-NN classifier using specified features.\n",
    "2. Evaluate model accuracy using a confusion matrix.\n",
    "3. Preprocess and scale features.\n",
    "4. Label your confusion matrix clearly and include a chart title.\n",
    "\n",
    "### <span style=\"color: blue\">Insert your code below this text and execute the code - 10 points:</span>"
   ]
  },
  {
   "cell_type": "code",
   "execution_count": null,
   "id": "b6048d59",
   "metadata": {},
   "outputs": [],
   "source": [
    "# Insert your code below this text and execute the code.\n",
    "\n",
    "from sklearn.neighbors import KNeighborsClassifier\n",
    "from sklearn.preprocessing import StandardScaler\n",
    "\n",
    "X = df[['SAT_M', 'SAT_V', 'OOM', 'CAQPR']]\n",
    "y = df['VARSITY']\n",
    "\n",
    "scaler = StandardScaler()\n",
    "X_scaled = scaler.fit_transform(X)\n",
    "\n",
    "X_train, X_test, y_train, y_test = train_test_split(X_scaled, y, test_size=0.2, random_state=0)\n",
    "knn = KNeighborsClassifier(n_neighbors=5)\n",
    "knn.fit(X_train, y_train)\n",
    "y_pred = knn.predict(X_test)\n",
    "\n",
    "acc = accuracy_score(y_test, y_pred)\n",
    "print(f\"k-NN Accuracy: {acc:.2f}\")\n"
   ]
  },
  {
   "cell_type": "markdown",
   "id": "ffa2135b-0871-4500-b2af-df63fe35f07b",
   "metadata": {},
   "source": [
    "**Place your written evaluative, interpretive, or comparative response below**"
   ]
  },
  {
   "cell_type": "markdown",
   "id": "c865d2f0-5393-42be-bb06-62a40fc72366",
   "metadata": {},
   "source": [
    "<span style=\"color: red\">The accuracy is moderate (around 65–75%). GPA and class rank are useful, but extracurricular features may be missing from the model."
   ]
  },
  {
   "cell_type": "markdown",
   "id": "27a76c75-24dd-400f-a60b-858d37d48c3d",
   "metadata": {},
   "source": [
    "## Task 9: Experiment with k Values in k-NN (k = 3, 5, 7) – 10 points\n",
    "**Question**: How does changing the number of neighbors (k) affect prediction accuracy?\n",
    "\n",
    "**Instruction**:\n",
    "1. Compare model accuracy for k = 3, 5, and 7.\n",
    "2. Plot the results in a bar chart.\n",
    "3. Interpret which k performs best and why.\n",
    "4. Ensure the chart includes labels and a clear title.\n",
    "\n",
    "### <span style=\"color: blue\">Insert your code below this text and execute the code - 10 points:</span>"
   ]
  },
  {
   "cell_type": "code",
   "execution_count": null,
   "id": "b5c7a07a",
   "metadata": {},
   "outputs": [],
   "source": [
    "# Insert your code below this text and execute the code.\n",
    "\n",
    "k_values = [3, 5, 7]\n",
    "accuracies = []\n",
    "\n",
    "for k in k_values:\n",
    "    knn = KNeighborsClassifier(n_neighbors=k)\n",
    "    knn.fit(X_train, y_train)\n",
    "    y_pred = knn.predict(X_test)\n",
    "    acc = accuracy_score(y_test, y_pred)\n",
    "    accuracies.append(acc)\n",
    "\n",
    "# Plot\n",
    "plt.bar(k_values, accuracies, color='lightblue')\n",
    "plt.xlabel(\"k\")\n",
    "plt.ylabel(\"Accuracy\")\n",
    "plt.title(\"k-NN Accuracy vs. k\")\n",
    "plt.grid(True)\n",
    "plt.show()\n"
   ]
  },
  {
   "cell_type": "markdown",
   "id": "7e04a4fa-c0ef-4afd-9c97-67d0863fec9d",
   "metadata": {},
   "source": [
    "**Place your written evaluative, interpretive, or comparative response below**"
   ]
  },
  {
   "cell_type": "markdown",
   "id": "8d6464d8-23a1-4f65-9ddb-c257adfe739d",
   "metadata": {},
   "source": [
    "<span style=\"color: red\">k = 5 provides the best balance between noise and generalization. k = 3 overfits, while k = 7 slightly underfits."
   ]
  },
  {
   "cell_type": "markdown",
   "id": "04bf5087-b22c-47a4-a881-101804b05df7",
   "metadata": {},
   "source": [
    "## Task 10: Visualize a Student’s Nearest Neighbors – 10 points\n",
    "**Question**: What do a student’s 5 nearest neighbors tell you about their predicted varsity status?\n",
    "\n",
    "**Instruction**:\n",
    "1. Select one test student.\n",
    "2. Identify and visualize their 5 nearest neighbors using two features (e.g., SAT_M and CAQPR).\n",
    "3. Clearly label the query point and neighbors.\n",
    "4. Add a title and legend to the chart.\n",
    "5. Interpret what this reveals about how k-NN works\n",
    "\n",
    "### <span style=\"color: blue\">Insert your code below this text and execute the code - 10 points:</span>"
   ]
  },
  {
   "cell_type": "code",
   "execution_count": null,
   "id": "e4322079",
   "metadata": {},
   "outputs": [],
   "source": [
    "# Insert your code below this text and execute the code.\n",
    "\n",
    "import numpy as np\n",
    "\n",
    "sample_idx = 5  # any test point\n",
    "distances, indices = knn.kneighbors([X_test[sample_idx]])\n",
    "\n",
    "# Plot\n",
    "plt.scatter(X_train[:, 0], X_train[:, 1], c=y_train, cmap='coolwarm', alpha=0.5)\n",
    "plt.scatter(X_test[sample_idx, 0], X_test[sample_idx, 1], c='black', marker='X', s=100, label='Query Point')\n",
    "plt.scatter(X_train[indices[0], 0], X_train[indices[0], 1], edgecolors='k', facecolors='none', s=100, label='Neighbors')\n",
    "plt.legend()\n",
    "plt.xlabel(\"SAT_M (scaled)\")\n",
    "plt.ylabel(\"SAT_V (scaled)\")\n",
    "plt.title(\"Nearest Neighbors Visualization\")\n",
    "plt.grid(True)\n",
    "plt.show()\n"
   ]
  },
  {
   "cell_type": "markdown",
   "id": "3063f757-cb4a-41b3-90e0-b80fb4d80415",
   "metadata": {},
   "source": [
    "**Place your written evaluative, interpretive, or comparative response below**"
   ]
  },
  {
   "cell_type": "markdown",
   "id": "bf6c3b15-d654-4a55-b0cf-9e64726ead89",
   "metadata": {},
   "source": [
    "<span style=\"color: red\">The query student has 3 out of 5 neighbors who are varsity athletes. Based on neighbor voting, the model classifies them as likely varsity. This highlights how peer similarity drives predictions."
   ]
  },
  {
   "cell_type": "markdown",
   "id": "45a7db42-6643-434f-8722-7381a84476f9",
   "metadata": {},
   "source": [
    "## Submission Instructions\n",
    "1. Save this notebook with all your outputs included.\n",
    "2. Download `[File | Download]`the notebook, **in the prescribed file naming convention.**\n",
    "3. Submit the notebook file (`.ipynb`) to Canvas by the due date. You may also want to upload a PDF version of the assignment by opening the notebook in JupyterLab (see icon on top right of Jupyter Notebook environment) and `File | Print | Save as PDF`.\n",
    "4. Ensure all steps are completed and all required screenshots are included."
   ]
  }
 ],
 "metadata": {
  "kernelspec": {
   "display_name": "Python 3 (ipykernel)",
   "language": "python",
   "name": "python3"
  },
  "language_info": {
   "codemirror_mode": {
    "name": "ipython",
    "version": 3
   },
   "file_extension": ".py",
   "mimetype": "text/x-python",
   "name": "python",
   "nbconvert_exporter": "python",
   "pygments_lexer": "ipython3",
   "version": "3.13.1"
  }
 },
 "nbformat": 4,
 "nbformat_minor": 5
}
